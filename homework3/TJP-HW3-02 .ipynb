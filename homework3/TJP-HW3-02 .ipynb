{
 "cells": [
  {
   "cell_type": "markdown",
   "metadata": {
    "scrolled": true
   },
   "source": [
    "!pip install pandas\n",
    "!pip install seaborn\n",
    "!pip install numpy\n",
    "!pip install matplotlib"
   ]
  },
  {
   "cell_type": "code",
   "execution_count": 2,
   "metadata": {},
   "outputs": [],
   "source": [
    "import pandas as pd\n",
    "import seaborn as sns\n",
    "import matplotlib\n",
    "import numpy as np\n",
    "import matplotlib.pyplot as plt"
   ]
  },
  {
   "cell_type": "markdown",
   "metadata": {},
   "source": [
    "hw2列表（传媒类实习职位一览）"
   ]
  },
  {
   "cell_type": "code",
   "execution_count": 3,
   "metadata": {},
   "outputs": [],
   "source": [
    "df= pd.read_csv('cinehello3-01.csv')"
   ]
  },
  {
   "cell_type": "code",
   "execution_count": 13,
   "metadata": {},
   "outputs": [
    {
     "data": {
      "text/html": [
       "<div>\n",
       "<style scoped>\n",
       "    .dataframe tbody tr th:only-of-type {\n",
       "        vertical-align: middle;\n",
       "    }\n",
       "\n",
       "    .dataframe tbody tr th {\n",
       "        vertical-align: top;\n",
       "    }\n",
       "\n",
       "    .dataframe thead th {\n",
       "        text-align: right;\n",
       "    }\n",
       "</style>\n",
       "<table border=\"1\" class=\"dataframe\">\n",
       "  <thead>\n",
       "    <tr style=\"text-align: right;\">\n",
       "      <th></th>\n",
       "      <th>job</th>\n",
       "      <th>location</th>\n",
       "      <th>date</th>\n",
       "    </tr>\n",
       "  </thead>\n",
       "  <tbody>\n",
       "    <tr>\n",
       "      <th>0</th>\n",
       "      <td>剪辑助理（实习生）</td>\n",
       "      <td>北京</td>\n",
       "      <td>3月31</td>\n",
       "    </tr>\n",
       "    <tr>\n",
       "      <th>1</th>\n",
       "      <td>实习编剧</td>\n",
       "      <td>上海</td>\n",
       "      <td>3月30</td>\n",
       "    </tr>\n",
       "    <tr>\n",
       "      <th>2</th>\n",
       "      <td>场记（实习职位）</td>\n",
       "      <td>北京</td>\n",
       "      <td>3月30</td>\n",
       "    </tr>\n",
       "    <tr>\n",
       "      <th>3</th>\n",
       "      <td>编导助理（实习生）</td>\n",
       "      <td>北京</td>\n",
       "      <td>3月29</td>\n",
       "    </tr>\n",
       "    <tr>\n",
       "      <th>4</th>\n",
       "      <td>新媒体运营实习生</td>\n",
       "      <td>北京</td>\n",
       "      <td>3月29</td>\n",
       "    </tr>\n",
       "    <tr>\n",
       "      <th>5</th>\n",
       "      <td>（实习）影视广告微电影创意文案策划(创意型)</td>\n",
       "      <td>北京</td>\n",
       "      <td>3月28</td>\n",
       "    </tr>\n",
       "    <tr>\n",
       "      <th>6</th>\n",
       "      <td>课程顾问/招生顾问/实习生</td>\n",
       "      <td>创意型)</td>\n",
       "      <td>3月28</td>\n",
       "    </tr>\n",
       "    <tr>\n",
       "      <th>7</th>\n",
       "      <td>剪辑实习助理</td>\n",
       "      <td>北京</td>\n",
       "      <td>3月28</td>\n",
       "    </tr>\n",
       "    <tr>\n",
       "      <th>8</th>\n",
       "      <td>文学策划实习生</td>\n",
       "      <td>北京</td>\n",
       "      <td>3月26</td>\n",
       "    </tr>\n",
       "    <tr>\n",
       "      <th>9</th>\n",
       "      <td>日语翻译实习生</td>\n",
       "      <td>北京</td>\n",
       "      <td>3月26</td>\n",
       "    </tr>\n",
       "  </tbody>\n",
       "</table>\n",
       "</div>"
      ],
      "text/plain": [
       "                      job location  date\n",
       "0               剪辑助理（实习生）       北京  3月31\n",
       "1                    实习编剧       上海  3月30\n",
       "2                场记（实习职位）       北京  3月30\n",
       "3               编导助理（实习生）       北京  3月29\n",
       "4                新媒体运营实习生       北京  3月29\n",
       "5  （实习）影视广告微电影创意文案策划(创意型)       北京  3月28\n",
       "6           课程顾问/招生顾问/实习生     创意型)  3月28\n",
       "7                  剪辑实习助理       北京  3月28\n",
       "8                 文学策划实习生       北京  3月26\n",
       "9                 日语翻译实习生       北京  3月26"
      ]
     },
     "execution_count": 13,
     "metadata": {},
     "output_type": "execute_result"
    }
   ],
   "source": [
    "df.head(10)"
   ]
  },
  {
   "cell_type": "code",
   "execution_count": 5,
   "metadata": {},
   "outputs": [
    {
     "data": {
      "text/plain": [
       "396"
      ]
     },
     "execution_count": 5,
     "metadata": {},
     "output_type": "execute_result"
    }
   ],
   "source": [
    "all_text = []\n",
    "for text in df['job']:\n",
    "    all_text.extend(str(text).split())\n",
    "len(all_text)"
   ]
  },
  {
   "cell_type": "code",
   "execution_count": 7,
   "metadata": {},
   "outputs": [
    {
     "data": {
      "text/plain": [
       "{'AE(实习生)': 1,\n",
       " 'INTERN': 1,\n",
       " 'PGC运营实习生': 1,\n",
       " 'Premiere剪辑/PR剪辑实习生': 1,\n",
       " 'VR制作实习生': 1,\n",
       " 'VR开发工程师（UE4）': 1,\n",
       " 'VR暑期实习生': 1,\n",
       " 'VT': 1,\n",
       " 'flash动画师（实习）': 1,\n",
       " 'roto实习生': 1,\n",
       " '《张爱玲》项目专员&实习生': 1,\n",
       " '【真人秀】实习编导/编剧': 1,\n",
       " '三维动画实习生': 1,\n",
       " '上海实习生': 1,\n",
       " '中文实习生': 1,\n",
       " '主播运营实习生': 2,\n",
       " '人事行政（应届生/实习生）': 2,\n",
       " '人力资源部实习生': 1,\n",
       " '传媒类实习生': 1,\n",
       " '全职实习生': 1,\n",
       " '公关部门实习生': 1,\n",
       " '公益视频实习生': 1,\n",
       " '兼职/实习片场助理': 1,\n",
       " '内容编辑实习生': 1,\n",
       " '创意开发部门实习生': 1,\n",
       " '创意文案（实习生）': 1,\n",
       " '创意策划实习生': 1,\n",
       " '创意策划（实习）': 2,\n",
       " '初级电影后期合成师（实习）': 1,\n",
       " '制片/编导': 1,\n",
       " '制片人助理（实习）': 1,\n",
       " '制片助理': 1,\n",
       " '制片助理实习生': 1,\n",
       " '制片助理／实习': 1,\n",
       " '制片实习生': 2,\n",
       " '制片组实习生': 1,\n",
       " '前台行政（毕业前为实习岗）': 1,\n",
       " '前期编导（实习生）': 1,\n",
       " '剧本统筹实习生': 2,\n",
       " '剪刀手（实习生）': 1,\n",
       " '剪辑助理(实习、全职皆可)': 1,\n",
       " '剪辑助理(实习生': 1,\n",
       " '剪辑助理实习生': 1,\n",
       " '剪辑助理（实习生）': 1,\n",
       " '剪辑实习助理': 1,\n",
       " '剪辑实习生': 10,\n",
       " '剪辑师（可接受实习）': 1,\n",
       " '剪辑师（实习）': 1,\n",
       " '剪辑（实习生）': 1,\n",
       " '动画制作实习生': 1,\n",
       " '动画包装（实习）': 1,\n",
       " '动画特效实习生': 2,\n",
       " '包装助理（实习生）': 1,\n",
       " '包装组': 1,\n",
       " '发行助理实习生': 1,\n",
       " '发行实习生（全职）': 1,\n",
       " '合成师-实习生': 1,\n",
       " '后期制作': 1,\n",
       " '后期制作实习生': 3,\n",
       " '后期剪辑': 1,\n",
       " '后期剪辑实习生': 7,\n",
       " '后期剪辑实习生NO4': 1,\n",
       " '后期助理（实习生）': 1,\n",
       " '后期包装/实习': 1,\n",
       " '后期合成/MG动画师（实习）': 1,\n",
       " '后期合成、抠像(实习)': 1,\n",
       " '后期合成、抠像,实习生': 1,\n",
       " '后期实习生': 5,\n",
       " '后期特效实习生': 1,\n",
       " '后期编导实习生': 1,\n",
       " '后期音频实习生': 1,\n",
       " '品牌部实习生': 1,\n",
       " '商务专员（实习生）': 1,\n",
       " '商务策划实习生': 1,\n",
       " '器材编辑实习生': 1,\n",
       " '在校剧本策划实习生': 1,\n",
       " '场记（实习职位）': 1,\n",
       " '大型现场制作前后期实习生': 1,\n",
       " '媒资库实习生【电视/综艺/影视/偶像/英/韩/日/法/德语等外语】': 1,\n",
       " '实习制片': 2,\n",
       " '实习剪辑': 2,\n",
       " '实习剪辑师': 1,\n",
       " '实习后期': 2,\n",
       " '实习后期剪辑、编导、文案': 1,\n",
       " '实习后期编辑': 1,\n",
       " '实习大学生': 1,\n",
       " '实习导演': 2,\n",
       " '实习导演助理（可转正）': 1,\n",
       " '实习录音师': 1,\n",
       " '实习摄像后期': 1,\n",
       " '实习摄像师': 1,\n",
       " '实习文案': 2,\n",
       " '实习生': 31,\n",
       " '实习生-短视频后期剪辑': 1,\n",
       " '实习生-项目助理': 1,\n",
       " '实习生5名，电影编剧方向': 1,\n",
       " '实习生或助理': 1,\n",
       " '实习生招募': 1,\n",
       " '实习生若干': 1,\n",
       " '实习生（广州）': 1,\n",
       " '实习生（影视编导、制片助理）': 1,\n",
       " '实习生（影视项目调研）': 1,\n",
       " '实习生（影视项目）': 1,\n",
       " '实习生（新媒体编辑）': 1,\n",
       " '实习生（新媒体运营）': 1,\n",
       " '实习生（策划方向）': 1,\n",
       " '实习生（编剧/剧本创作）': 2,\n",
       " '实习生（视频技术支持）': 1,\n",
       " '实习生（采编，行政，数字营销，社群运营）': 1,\n",
       " '实习策划': 1,\n",
       " '实习编剧': 5,\n",
       " '实习编导': 3,\n",
       " '实习编辑': 1,\n",
       " '实习英文文案': 1,\n",
       " '实习营销助理': 1,\n",
       " '实习视频剪辑': 1,\n",
       " '实习视频摄影师': 1,\n",
       " '宣传助理实习生': 1,\n",
       " '宣传实习生': 1,\n",
       " '宣传实习生（全职）': 1,\n",
       " '宣传策划': 1,\n",
       " '宣发文案（实习生）': 1,\n",
       " '导演/编导（实习）': 1,\n",
       " '导演实习生': 1,\n",
       " '市场助理/实习生': 1,\n",
       " '市场新媒体编辑实习生': 2,\n",
       " '平面设计实习生': 3,\n",
       " '平面设计实习生OR全职': 1,\n",
       " '平面设计师实习生': 1,\n",
       " '平面设计（实习）': 1,\n",
       " '广告部营销(实习生)': 1,\n",
       " '广州联络站实习生': 1,\n",
       " '影视&投资': 1,\n",
       " '影视专业实习生': 1,\n",
       " '影视信息录入实习生': 1,\n",
       " '影视制作/新媒体运营实习生': 1,\n",
       " '影视制作实习': 1,\n",
       " '影视制作实习生': 4,\n",
       " '影视制片实习': 1,\n",
       " '影视前后期实习生': 1,\n",
       " '影视同期录音实习': 1,\n",
       " '影视后期制作': 2,\n",
       " '影视后期剪辑（实习）': 1,\n",
       " '影视后期助理（实习生）': 1,\n",
       " '影视后期合成实习生': 1,\n",
       " '影视后期实习生': 6,\n",
       " '影视实习生': 4,\n",
       " '影视宣传实习生': 2,\n",
       " '影视宣发实习生': 1,\n",
       " '影视文学策划实习生': 1,\n",
       " '影视概念设计实习生': 1,\n",
       " '影视特效合成实习生': 1,\n",
       " '影视相关各部门实习生': 1,\n",
       " '影视策划、导演助理实习生（限女生）': 1,\n",
       " '影视策划（可实习）': 1,\n",
       " '影视编导实习生': 1,\n",
       " '影视编导（实习）': 1,\n",
       " '影视部实习生': 1,\n",
       " '急聘正规高校录音系实习生及毕业生（无地域限制）': 1,\n",
       " '投资助理实习生（北京）': 1,\n",
       " '招电视栏目实习生': 1,\n",
       " '招聘新媒体运营助理（实习生）': 2,\n",
       " '摄像助理/实习生': 1,\n",
       " '摄像助理（实习生）': 1,\n",
       " '摄像助理（实习）': 1,\n",
       " '摄像及后期实习生(要求男性)': 1,\n",
       " '摄像实习岗位': 1,\n",
       " '摄像实习生': 4,\n",
       " '摄像实习生和文案策划': 1,\n",
       " '摄像（实习/正职）': 1,\n",
       " '摄影助理（实习生）': 1,\n",
       " '摄影实习生': 1,\n",
       " '摄影摄像师（实习）': 1,\n",
       " '摄影（实习生）': 1,\n",
       " '数据编辑实习生': 1,\n",
       " '文化项目负责人&专员&实习生': 1,\n",
       " '文员秘书/助理（应届生/实习生）': 1,\n",
       " '文学策划实习生': 1,\n",
       " '文案策划': 1,\n",
       " '文案策划实习/正职': 1,\n",
       " '文案策划实习生': 5,\n",
       " '文案策划（实习/正职）': 1,\n",
       " '文案策划（实习岗）': 1,\n",
       " '新媒体专员|实习生': 1,\n",
       " '新媒体实习生': 2,\n",
       " '新媒体推广/运营（实习）': 1,\n",
       " '新媒体文案（实习生）': 1,\n",
       " '新媒体编辑（实习）': 2,\n",
       " '新媒体营销2名（实习/正职）': 1,\n",
       " '新媒体运营实习': 1,\n",
       " '新媒体运营实习生': 2,\n",
       " '新媒体运营编辑（应届生/实习生）': 1,\n",
       " '新媒体运营鲜肉（可实习）-6月招聘': 1,\n",
       " '新媒体运营（偏电视编导/选角导演方向）【接受实习生】': 1,\n",
       " '新媒体运营（实习生岗位）': 1,\n",
       " '新媒体运营（实习生）': 1,\n",
       " '新媒体运营（实习）': 1,\n",
       " '日语翻译实习生': 1,\n",
       " '有想法的实习编导，面议': 1,\n",
       " '服装助理实习生': 1,\n",
       " '极限运动影片实习生': 1,\n",
       " '栏目制片（正职/实习）': 1,\n",
       " '模型材质实习生': 1,\n",
       " '模式研发线下实习生（表现优秀可正式入职）': 1,\n",
       " '毕业生／实习生／培训生': 1,\n",
       " '渠道专员(实习生）': 1,\n",
       " '爸爸厨房': 1,\n",
       " '爸爸厨房实习生': 1,\n",
       " '特效师（含初级和实习）': 1,\n",
       " '电影文案编辑（实习/兼职）': 1,\n",
       " '电影编辑（全职、实习生）': 1,\n",
       " '电影编辑（实习／全职）': 1,\n",
       " '直播节目编导（实习生）': 1,\n",
       " '真人秀剪辑实习生': 1,\n",
       " '真人秀导演（实习生）': 1,\n",
       " '策划专员(实习生）': 1,\n",
       " '策划实习生OR全职': 1,\n",
       " '策划实习生急': 1,\n",
       " '策划（可接受实习）': 1,\n",
       " '纪录片实习生': 1,\n",
       " '纪录片实习编导（实习生）': 1,\n",
       " '纪录片摄影助理（实习生）': 1,\n",
       " '统筹助理（实习生）': 1,\n",
       " '编剧/文案策划/新媒体运营实习生': 1,\n",
       " '编剧助理': 3,\n",
       " '编剧助理（实习生）': 1,\n",
       " '编剧实习生': 5,\n",
       " '编剧文案（可实习）': 1,\n",
       " '编导助理【限女实习生】': 1,\n",
       " '编导助理（实习生）': 1,\n",
       " '编导实习': 1,\n",
       " '编导实习生': 3,\n",
       " '编导实习生OR全职': 1,\n",
       " '编导（可实习）': 1,\n",
       " '编导（实习生）': 2,\n",
       " '编导（或实习生）': 1,\n",
       " '编辑实习生': 1,\n",
       " '网站编辑实习生': 1,\n",
       " '网站编辑实习生（娱乐产经网）': 1,\n",
       " '网络节目编辑(实习生)': 1,\n",
       " '网络运营编辑（大二、大三实习生）': 1,\n",
       " '美工|美工实习生': 1,\n",
       " '美术（实习生）': 1,\n",
       " '艺人宣传实习生': 2,\n",
       " '艺人宣传实习生(北京)': 1,\n",
       " '艺术电影文案策划一名【实习】': 1,\n",
       " '英语实习生': 1,\n",
       " '营销策划（实习）': 1,\n",
       " '行政助理实习生': 1,\n",
       " '行政助理（实习生）': 1,\n",
       " '行政实习生': 2,\n",
       " '视觉设计实习生': 1,\n",
       " '视频/电影制作': 1,\n",
       " '视频制作实习生': 1,\n",
       " '视频剪辑兼人事实习生': 1,\n",
       " '视频剪辑实习生': 2,\n",
       " '视频剪辑实习生（足球）': 1,\n",
       " '视频后期': 1,\n",
       " '视频后期（实习）': 1,\n",
       " '视频实习生（综艺搞笑类）': 1,\n",
       " '视频摄制编导（正式岗1名，实习1-2名）': 1,\n",
       " '视频运营策划实习生（腾讯视频）': 1,\n",
       " '设计实习生': 1,\n",
       " '课程顾问/招生顾问/实习生': 1,\n",
       " '调光助理#实习生': 1,\n",
       " '调研中心实习生': 1,\n",
       " '财务实习生': 2,\n",
       " '运营助理': 1,\n",
       " '运营实习生': 1,\n",
       " '运营活动实习生': 1,\n",
       " '道具助理实习生': 1,\n",
       " '韩语实习生': 1,\n",
       " '音频内容编导实习生': 1,\n",
       " '音频后期实习生': 1,\n",
       " '音频实习生': 1,\n",
       " '项目助理实习生': 1,\n",
       " '项目开发实习生': 1,\n",
       " '项目执行（实习生）': 1,\n",
       " '项目执行（应届生实习）': 1,\n",
       " '项目运作及策划': 1,\n",
       " '项目运作及策划【实习生】': 1,\n",
       " '项目运营（正式岗1名实习岗1-2名）': 1,\n",
       " '项目部实习生': 1,\n",
       " '（实习生）多名': 1,\n",
       " '（实习生）编导': 1,\n",
       " '（实习）影视广告微电影创意文案策划(创意型)': 1,\n",
       " '（摄影方向）实习培训生': 1}"
      ]
     },
     "execution_count": 7,
     "metadata": {},
     "output_type": "execute_result"
    }
   ],
   "source": [
    "word_count = {}\n",
    "for word in all_text:\n",
    "    if word not in word_count:\n",
    "        word_count[word] = 1\n",
    "    else:\n",
    "        word_count[word] = word_count[word] + 1\n",
    "word_count"
   ]
  },
  {
   "cell_type": "code",
   "execution_count": 14,
   "metadata": {},
   "outputs": [
    {
     "data": {
      "text/html": [
       "<div>\n",
       "<style scoped>\n",
       "    .dataframe tbody tr th:only-of-type {\n",
       "        vertical-align: middle;\n",
       "    }\n",
       "\n",
       "    .dataframe tbody tr th {\n",
       "        vertical-align: top;\n",
       "    }\n",
       "\n",
       "    .dataframe thead th {\n",
       "        text-align: right;\n",
       "    }\n",
       "</style>\n",
       "<table border=\"1\" class=\"dataframe\">\n",
       "  <thead>\n",
       "    <tr style=\"text-align: right;\">\n",
       "      <th></th>\n",
       "      <th>index</th>\n",
       "      <th>0</th>\n",
       "    </tr>\n",
       "  </thead>\n",
       "  <tbody>\n",
       "    <tr>\n",
       "      <th>0</th>\n",
       "      <td>AE(实习生)</td>\n",
       "      <td>1</td>\n",
       "    </tr>\n",
       "    <tr>\n",
       "      <th>1</th>\n",
       "      <td>INTERN</td>\n",
       "      <td>1</td>\n",
       "    </tr>\n",
       "    <tr>\n",
       "      <th>2</th>\n",
       "      <td>PGC运营实习生</td>\n",
       "      <td>1</td>\n",
       "    </tr>\n",
       "    <tr>\n",
       "      <th>3</th>\n",
       "      <td>Premiere剪辑/PR剪辑实习生</td>\n",
       "      <td>1</td>\n",
       "    </tr>\n",
       "    <tr>\n",
       "      <th>4</th>\n",
       "      <td>VR制作实习生</td>\n",
       "      <td>1</td>\n",
       "    </tr>\n",
       "    <tr>\n",
       "      <th>5</th>\n",
       "      <td>VR开发工程师（UE4）</td>\n",
       "      <td>1</td>\n",
       "    </tr>\n",
       "    <tr>\n",
       "      <th>6</th>\n",
       "      <td>VR暑期实习生</td>\n",
       "      <td>1</td>\n",
       "    </tr>\n",
       "    <tr>\n",
       "      <th>7</th>\n",
       "      <td>VT</td>\n",
       "      <td>1</td>\n",
       "    </tr>\n",
       "    <tr>\n",
       "      <th>8</th>\n",
       "      <td>flash动画师（实习）</td>\n",
       "      <td>1</td>\n",
       "    </tr>\n",
       "    <tr>\n",
       "      <th>9</th>\n",
       "      <td>roto实习生</td>\n",
       "      <td>1</td>\n",
       "    </tr>\n",
       "  </tbody>\n",
       "</table>\n",
       "</div>"
      ],
      "text/plain": [
       "                index  0\n",
       "0             AE(实习生)  1\n",
       "1              INTERN  1\n",
       "2            PGC运营实习生  1\n",
       "3  Premiere剪辑/PR剪辑实习生  1\n",
       "4             VR制作实习生  1\n",
       "5        VR开发工程师（UE4）  1\n",
       "6             VR暑期实习生  1\n",
       "7                  VT  1\n",
       "8        flash动画师（实习）  1\n",
       "9             roto实习生  1"
      ]
     },
     "execution_count": 14,
     "metadata": {},
     "output_type": "execute_result"
    }
   ],
   "source": [
    "pd.Series(word_count).to_frame().reset_index().head(10)"
   ]
  },
  {
   "cell_type": "code",
   "execution_count": 17,
   "metadata": {},
   "outputs": [
    {
     "data": {
      "text/plain": [
       "实习生        31\n",
       "剪辑实习生      10\n",
       "后期剪辑实习生     7\n",
       "影视后期实习生     6\n",
       "编剧实习生       5\n",
       "文案策划实习生     5\n",
       "后期实习生       5\n",
       "实习编剧        5\n",
       "摄像实习生       4\n",
       "影视实习生       4\n",
       "dtype: int64"
      ]
     },
     "execution_count": 17,
     "metadata": {},
     "output_type": "execute_result"
    }
   ],
   "source": [
    "pd.Series(word_count).sort_values(ascending=False).head(10)"
   ]
  },
  {
   "cell_type": "code",
   "execution_count": 18,
   "metadata": {},
   "outputs": [],
   "source": [
    "stop_words = set([\n",
    "    '实习生',\n",
    "    '实习',\n",
    "    '正职',\n",
    "    '()',\n",
    "    '/',\n",
    "    '表现优秀可正式入职',\n",
    "    '培训生',\n",
    "    '6月招聘 ',\n",
    "    '实习大学生 ',\n",
    "    '实习生若干',\n",
    "    '实习生招募'\n",
    "  \n",
    "])"
   ]
  },
  {
   "cell_type": "markdown",
   "metadata": {},
   "source": [
    "\n",
    "## Story point1: The graph below shows the most needed intern is about editing "
   ]
  },
  {
   "cell_type": "code",
   "execution_count": 19,
   "metadata": {},
   "outputs": [
    {
     "data": {
      "text/html": [
       "<div>\n",
       "<style scoped>\n",
       "    .dataframe tbody tr th:only-of-type {\n",
       "        vertical-align: middle;\n",
       "    }\n",
       "\n",
       "    .dataframe tbody tr th {\n",
       "        vertical-align: top;\n",
       "    }\n",
       "\n",
       "    .dataframe thead th {\n",
       "        text-align: right;\n",
       "    }\n",
       "</style>\n",
       "<table border=\"1\" class=\"dataframe\">\n",
       "  <thead>\n",
       "    <tr style=\"text-align: right;\">\n",
       "      <th></th>\n",
       "      <th>index</th>\n",
       "      <th>0</th>\n",
       "    </tr>\n",
       "  </thead>\n",
       "  <tbody>\n",
       "    <tr>\n",
       "      <th>45</th>\n",
       "      <td>剪辑实习生</td>\n",
       "      <td>10</td>\n",
       "    </tr>\n",
       "    <tr>\n",
       "      <th>60</th>\n",
       "      <td>后期剪辑实习生</td>\n",
       "      <td>7</td>\n",
       "    </tr>\n",
       "    <tr>\n",
       "      <th>145</th>\n",
       "      <td>影视后期实习生</td>\n",
       "      <td>6</td>\n",
       "    </tr>\n",
       "    <tr>\n",
       "      <th>110</th>\n",
       "      <td>实习编剧</td>\n",
       "      <td>5</td>\n",
       "    </tr>\n",
       "    <tr>\n",
       "      <th>180</th>\n",
       "      <td>文案策划实习生</td>\n",
       "      <td>5</td>\n",
       "    </tr>\n",
       "    <tr>\n",
       "      <th>226</th>\n",
       "      <td>编剧实习生</td>\n",
       "      <td>5</td>\n",
       "    </tr>\n",
       "    <tr>\n",
       "      <th>67</th>\n",
       "      <td>后期实习生</td>\n",
       "      <td>5</td>\n",
       "    </tr>\n",
       "    <tr>\n",
       "      <th>167</th>\n",
       "      <td>摄像实习生</td>\n",
       "      <td>4</td>\n",
       "    </tr>\n",
       "    <tr>\n",
       "      <th>137</th>\n",
       "      <td>影视制作实习生</td>\n",
       "      <td>4</td>\n",
       "    </tr>\n",
       "    <tr>\n",
       "      <th>146</th>\n",
       "      <td>影视实习生</td>\n",
       "      <td>4</td>\n",
       "    </tr>\n",
       "  </tbody>\n",
       "</table>\n",
       "</div>"
      ],
      "text/plain": [
       "       index   0\n",
       "45     剪辑实习生  10\n",
       "60   后期剪辑实习生   7\n",
       "145  影视后期实习生   6\n",
       "110     实习编剧   5\n",
       "180  文案策划实习生   5\n",
       "226    编剧实习生   5\n",
       "67     后期实习生   5\n",
       "167    摄像实习生   4\n",
       "137  影视制作实习生   4\n",
       "146    影视实习生   4"
      ]
     },
     "execution_count": 19,
     "metadata": {},
     "output_type": "execute_result"
    }
   ],
   "source": [
    "df_word_count = pd.Series(word_count).to_frame().reset_index()\n",
    "def is_not_stop_word(x):\n",
    "    return x not in stop_words\n",
    "df_word_count[\n",
    "    df_word_count['index'].apply(is_not_stop_word)\n",
    "].sort_values(by=0, ascending=False).head(10)\n"
   ]
  },
  {
   "cell_type": "code",
   "execution_count": 21,
   "metadata": {},
   "outputs": [
    {
     "data": {
      "text/plain": [
       "2017    183\n",
       "2016    104\n",
       "2015     41\n",
       "3月26      5\n",
       "2月28      4\n",
       "2月2日      4\n",
       "3月25      4\n",
       "3月28      3\n",
       "2月5日      3\n",
       "2月24      3\n",
       "Name: date, dtype: int64"
      ]
     },
     "execution_count": 21,
     "metadata": {},
     "output_type": "execute_result"
    }
   ],
   "source": [
    "df['date'].value_counts().head(10)"
   ]
  },
  {
   "cell_type": "code",
   "execution_count": 23,
   "metadata": {},
   "outputs": [],
   "source": [
    "\n",
    "mapping = {\n",
    "    '2015':2015,\n",
    "    '2016':2016,\n",
    "    '2017':2017,\n",
    "   '4月6日':2018,\n",
    " '3月31':2018,\n",
    " '3月30':2018,\n",
    " '3月30':2018,\n",
    " '3月29':2018,\n",
    " '3月29':2018,\n",
    " '3月29':2018,\n",
    " '3月28':2018,\n",
    " '3月28':2018,\n",
    " '3月28':2018,\n",
    " '3月26':2018,\n",
    " '3月26':2018,\n",
    " '3月26':2018,\n",
    " '3月26':2018,\n",
    " '3月26':2018,\n",
    " '3月25':2018,\n",
    " '3月24':2018,\n",
    " '3月23':2018,\n",
    " '3月22':2018,\n",
    " '3月21':2018,\n",
    " '3月20':2018,\n",
    " '3月17':2018,\n",
    " '3月16':2018,\n",
    " '3月15':2018,\n",
    " '3月14':2018,\n",
    " '3月13':2018,\n",
    " '3月12':2018,\n",
    " '3月9日':2018,\n",
    " '3月8日':2018,\n",
    " '3月8日':2018,\n",
    " '3月3日':2018,\n",
    " '3月3日':2018,\n",
    " '3月2日':2018,\n",
    " '2月28':2018,\n",
    " '2月26':2018,\n",
    " '2月25':2018,\n",
    " '2月24':2018,\n",
    " '2月23':2018,\n",
    " '2月9日':2018,\n",
    " '2月6日':2018,\n",
    " '2月5日':2018,\n",
    " '2月5日':2018,\n",
    " '2月5日':2018,\n",
    " '2月2日':2018,\n",
    " '2月2日':2018,\n",
    " '2月2日':2018,\n",
    " '2月2日':2018,\n",
    " '1月30':2018,\n",
    " '1月25':2018,\n",
    " '1月19':2018,\n",
    " '1月18':2018,\n",
    " '1月18':2018,\n",
    " '1月12':2018,\n",
    " '1月8日':2018,\n",
    " '1月6日':2018,\n",
    " '1月6日':2018,\n",
    " '1月3日':2018,\n",
    "}"
   ]
  },
  {
   "cell_type": "code",
   "execution_count": 24,
   "metadata": {},
   "outputs": [
    {
     "data": {
      "text/plain": [
       "0"
      ]
     },
     "execution_count": 24,
     "metadata": {},
     "output_type": "execute_result"
    }
   ],
   "source": [
    "def cleaning(e):\n",
    "    return mapping.get(e, 0)\n",
    "\n",
    "cleaning('2月24日')"
   ]
  },
  {
   "cell_type": "code",
   "execution_count": 25,
   "metadata": {},
   "outputs": [],
   "source": [
    "df['year'] = df['date'].apply(cleaning)"
   ]
  },
  {
   "cell_type": "code",
   "execution_count": 28,
   "metadata": {},
   "outputs": [
    {
     "data": {
      "text/plain": [
       "0    2018\n",
       "1    2018\n",
       "2    2018\n",
       "3    2018\n",
       "4    2018\n",
       "5    2018\n",
       "6    2018\n",
       "7    2018\n",
       "8    2018\n",
       "9    2018\n",
       "Name: year, dtype: int64"
      ]
     },
     "execution_count": 28,
     "metadata": {},
     "output_type": "execute_result"
    }
   ],
   "source": [
    "df['year'].head(10)"
   ]
  },
  {
   "cell_type": "markdown",
   "metadata": {},
   "source": [
    "## Story point2: To see how much internships published in four years and its trend\n",
    "\n",
    "## Though 2018 has only passed about three months, it's obvious for us to predict that \n",
    "## the total amount of internships provision in 2018 will excess the previous years, as the first three months has about 70 internships provided\n",
    "## the whole amount of internships in 2018 may be around 280.\n",
    "## So the amount of internships is rising continuously since 2015."
   ]
  },
  {
   "cell_type": "code",
   "execution_count": 29,
   "metadata": {},
   "outputs": [
    {
     "data": {
      "text/plain": [
       "<matplotlib.axes._subplots.AxesSubplot at 0x10e2d0d68>"
      ]
     },
     "execution_count": 29,
     "metadata": {},
     "output_type": "execute_result"
    },
    {
     "data": {
      "image/png": "[encoded data removed]",
      "text/plain": [
       "<matplotlib.figure.Figure at 0x10e5bd7b8>"
      ]
     },
     "metadata": {},
     "output_type": "display_data"
    }
   ],
   "source": [
    "df['year'].hist()\n"
   ]
  },
  {
   "cell_type": "code",
   "execution_count": 30,
   "metadata": {},
   "outputs": [],
   "source": [
    "locate = df['location'].value_counts()"
   ]
  },
  {
   "cell_type": "code",
   "execution_count": 31,
   "metadata": {},
   "outputs": [
    {
     "data": {
      "text/plain": [
       "Index(['北京', '上海', '广州', '深圳', '成都', '长沙', '武汉', '杭州', '厦门', '温州', '重庆', '济南',\n",
       "       '哈尔滨', '佛山', '石家庄', '实习、全职皆可)', '实习)', '创意型)', '要求男性)', '实习生 应届毕业生方向)',\n",
       "       '绍兴', '铜仁', '苏州', '南通'],\n",
       "      dtype='object')"
      ]
     },
     "execution_count": 31,
     "metadata": {},
     "output_type": "execute_result"
    }
   ],
   "source": [
    "locate.index"
   ]
  },
  {
   "cell_type": "code",
   "execution_count": 32,
   "metadata": {},
   "outputs": [
    {
     "data": {
      "text/plain": [
       "array([244,  49,  27,  19,  11,   9,   7,   6,   3,   3,   2,   2,   2,\n",
       "         2,   1,   1,   1,   1,   1,   1,   1,   1,   1,   1])"
      ]
     },
     "execution_count": 32,
     "metadata": {},
     "output_type": "execute_result"
    }
   ],
   "source": [
    "locate.values"
   ]
  },
  {
   "cell_type": "code",
   "execution_count": 33,
   "metadata": {},
   "outputs": [],
   "source": [
    "df_locate = locate.to_frame().reset_index()"
   ]
  },
  {
   "cell_type": "code",
   "execution_count": 34,
   "metadata": {},
   "outputs": [
    {
     "data": {
      "text/html": [
       "<div>\n",
       "<style scoped>\n",
       "    .dataframe tbody tr th:only-of-type {\n",
       "        vertical-align: middle;\n",
       "    }\n",
       "\n",
       "    .dataframe tbody tr th {\n",
       "        vertical-align: top;\n",
       "    }\n",
       "\n",
       "    .dataframe thead th {\n",
       "        text-align: right;\n",
       "    }\n",
       "</style>\n",
       "<table border=\"1\" class=\"dataframe\">\n",
       "  <thead>\n",
       "    <tr style=\"text-align: right;\">\n",
       "      <th></th>\n",
       "      <th>index</th>\n",
       "      <th>location</th>\n",
       "    </tr>\n",
       "  </thead>\n",
       "  <tbody>\n",
       "    <tr>\n",
       "      <th>0</th>\n",
       "      <td>北京</td>\n",
       "      <td>244</td>\n",
       "    </tr>\n",
       "    <tr>\n",
       "      <th>1</th>\n",
       "      <td>上海</td>\n",
       "      <td>49</td>\n",
       "    </tr>\n",
       "    <tr>\n",
       "      <th>2</th>\n",
       "      <td>广州</td>\n",
       "      <td>27</td>\n",
       "    </tr>\n",
       "    <tr>\n",
       "      <th>3</th>\n",
       "      <td>深圳</td>\n",
       "      <td>19</td>\n",
       "    </tr>\n",
       "    <tr>\n",
       "      <th>4</th>\n",
       "      <td>成都</td>\n",
       "      <td>11</td>\n",
       "    </tr>\n",
       "    <tr>\n",
       "      <th>5</th>\n",
       "      <td>长沙</td>\n",
       "      <td>9</td>\n",
       "    </tr>\n",
       "    <tr>\n",
       "      <th>6</th>\n",
       "      <td>武汉</td>\n",
       "      <td>7</td>\n",
       "    </tr>\n",
       "    <tr>\n",
       "      <th>7</th>\n",
       "      <td>杭州</td>\n",
       "      <td>6</td>\n",
       "    </tr>\n",
       "    <tr>\n",
       "      <th>8</th>\n",
       "      <td>厦门</td>\n",
       "      <td>3</td>\n",
       "    </tr>\n",
       "    <tr>\n",
       "      <th>9</th>\n",
       "      <td>温州</td>\n",
       "      <td>3</td>\n",
       "    </tr>\n",
       "  </tbody>\n",
       "</table>\n",
       "</div>"
      ],
      "text/plain": [
       "  index  location\n",
       "0    北京       244\n",
       "1    上海        49\n",
       "2    广州        27\n",
       "3    深圳        19\n",
       "4    成都        11\n",
       "5    长沙         9\n",
       "6    武汉         7\n",
       "7    杭州         6\n",
       "8    厦门         3\n",
       "9    温州         3"
      ]
     },
     "execution_count": 34,
     "metadata": {},
     "output_type": "execute_result"
    }
   ],
   "source": [
    "df_locate.head(10)"
   ]
  },
  {
   "cell_type": "code",
   "execution_count": 35,
   "metadata": {},
   "outputs": [],
   "source": [
    "from matplotlib import pyplot as plt"
   ]
  },
  {
   "cell_type": "markdown",
   "metadata": {},
   "source": [
    "## Story point3: To see the amounts of internships the cities account for\n",
    "\n",
    "## The pie chart indicates Beijing has played a leading role on providing internships,accounting for more than a half.\n",
    "## It is followed by Shanghai(12.6%),Guangzhou(6.9%),Shenzhen(4.9%) and other Chinese cities.\n",
    "## In conclusion, media internships are mainly focus on first-tire cities,among which Beijing has the most working oportunities."
   ]
  },
  {
   "cell_type": "code",
   "execution_count": 38,
   "metadata": {},
   "outputs": [
    {
     "data": {
      "image/png": "[encoded data removed]",
      "text/plain": [
       "<matplotlib.figure.Figure at 0x10e6a3c50>"
      ]
     },
     "metadata": {},
     "output_type": "display_data"
    }
   ],
   "source": [
    "plt.rcParams['font.sans-serif']=['SimHei']\n",
    "plt.figure(figsize=(6,9))\n",
    "labels =[u'北京',u'上海',u'广州',u'深圳',u'成都',u'长沙',u'武汉',u'杭州',u'其他']\n",
    "sizes = [244,49,27,19,11,9,7,6,18]\n",
    "colors = ['lightskyblue','yellow','red','green','purple','grey','orange','brown','white']\n",
    "explode = (0,0,0,0,0,0,0,0,0)\n",
    "patches,text1,text2 = plt.pie(sizes,\n",
    "                             explode=explode,\n",
    "                             labels=labels,\n",
    "                             colors=colors,\n",
    "                             autopct = '%1.1f%%',\n",
    "                             shadow = True,\n",
    "                             startangle =90,\n",
    "                             pctdistance = 0.6)\n",
    "plt.axis('equal')\n",
    "plt.show()\n"
   ]
  },
  {
   "cell_type": "code",
   "execution_count": null,
   "metadata": {},
   "outputs": [],
   "source": []
  }
 ],
 "metadata": {
  "kernelspec": {
   "display_name": "Python 3",
   "language": "python",
   "name": "python3"
  },
  "language_info": {
   "codemirror_mode": {
    "name": "ipython",
    "version": 3
   },
   "file_extension": ".py",
   "mimetype": "text/x-python",
   "name": "python",
   "nbconvert_exporter": "python",
   "pygments_lexer": "ipython3",
   "version": "3.6.4"
  }
 },
 "nbformat": 4,
 "nbformat_minor": 2
}
